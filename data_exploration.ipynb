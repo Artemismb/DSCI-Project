{
 "cells": [
  {
   "cell_type": "code",
   "execution_count": 12,
   "metadata": {},
   "outputs": [
    {
     "data": {
      "text/html": [
       "'Project Proposal'"
      ],
      "text/latex": [
       "'Project Proposal'"
      ],
      "text/markdown": [
       "'Project Proposal'"
      ],
      "text/plain": [
       "[1] \"Project Proposal\""
      ]
     },
     "metadata": {},
     "output_type": "display_data"
    }
   ],
   "source": [
    "\"Project Proposal\""
   ]
  },
  {
   "cell_type": "code",
   "execution_count": 1,
   "metadata": {},
   "outputs": [
    {
     "name": "stderr",
     "output_type": "stream",
     "text": [
      "── \u001b[1mAttaching packages\u001b[22m ─────────────────────────────────────── tidyverse 1.3.0 ──\n",
      "\n",
      "\u001b[32m✔\u001b[39m \u001b[34mggplot2\u001b[39m 3.3.2     \u001b[32m✔\u001b[39m \u001b[34mpurrr  \u001b[39m 0.3.4\n",
      "\u001b[32m✔\u001b[39m \u001b[34mtibble \u001b[39m 3.0.3     \u001b[32m✔\u001b[39m \u001b[34mdplyr  \u001b[39m 1.0.2\n",
      "\u001b[32m✔\u001b[39m \u001b[34mtidyr  \u001b[39m 1.1.2     \u001b[32m✔\u001b[39m \u001b[34mstringr\u001b[39m 1.4.0\n",
      "\u001b[32m✔\u001b[39m \u001b[34mreadr  \u001b[39m 1.3.1     \u001b[32m✔\u001b[39m \u001b[34mforcats\u001b[39m 0.5.0\n",
      "\n",
      "Warning message:\n",
      "“package ‘ggplot2’ was built under R version 4.0.1”\n",
      "Warning message:\n",
      "“package ‘tibble’ was built under R version 4.0.2”\n",
      "Warning message:\n",
      "“package ‘tidyr’ was built under R version 4.0.2”\n",
      "Warning message:\n",
      "“package ‘dplyr’ was built under R version 4.0.2”\n",
      "── \u001b[1mConflicts\u001b[22m ────────────────────────────────────────── tidyverse_conflicts() ──\n",
      "\u001b[31m✖\u001b[39m \u001b[34mdplyr\u001b[39m::\u001b[32mfilter()\u001b[39m masks \u001b[34mstats\u001b[39m::filter()\n",
      "\u001b[31m✖\u001b[39m \u001b[34mdplyr\u001b[39m::\u001b[32mlag()\u001b[39m    masks \u001b[34mstats\u001b[39m::lag()\n",
      "\n",
      "Warning message:\n",
      "“Missing column names filled in: 'X68' [68]”\n",
      "Parsed with column specification:\n",
      "cols(\n",
      "  .default = col_double(),\n",
      "  ethnicity = \u001b[31mcol_character()\u001b[39m,\n",
      "  gender = \u001b[31mcol_character()\u001b[39m,\n",
      "  icu_admit_source = \u001b[31mcol_character()\u001b[39m,\n",
      "  icu_stay_type = \u001b[31mcol_character()\u001b[39m,\n",
      "  icu_type = \u001b[31mcol_character()\u001b[39m,\n",
      "  apache_3j_bodysystem = \u001b[31mcol_character()\u001b[39m,\n",
      "  apache_2_bodysystem = \u001b[31mcol_character()\u001b[39m,\n",
      "  X68 = \u001b[33mcol_logical()\u001b[39m\n",
      ")\n",
      "\n",
      "See spec(...) for full column specifications.\n",
      "\n"
     ]
    },
    {
     "data": {
      "text/html": [
       "<table>\n",
       "<caption>A spec_tbl_df: 39999 × 69</caption>\n",
       "<thead>\n",
       "\t<tr><th scope=col>encounter_id</th><th scope=col>patient_id</th><th scope=col>hospital_id</th><th scope=col>age</th><th scope=col>bmi</th><th scope=col>elective_surgery</th><th scope=col>ethnicity</th><th scope=col>gender</th><th scope=col>height</th><th scope=col>icu_admit_source</th><th scope=col>⋯</th><th scope=col>diabetes_mellitus</th><th scope=col>hepatic_failure</th><th scope=col>immunosuppression</th><th scope=col>leukemia</th><th scope=col>lymphoma</th><th scope=col>solid_tumor_with_metastasis</th><th scope=col>apache_3j_bodysystem</th><th scope=col>apache_2_bodysystem</th><th scope=col>X68</th><th scope=col>hospital_death</th></tr>\n",
       "\t<tr><th scope=col>&lt;dbl&gt;</th><th scope=col>&lt;dbl&gt;</th><th scope=col>&lt;dbl&gt;</th><th scope=col>&lt;dbl&gt;</th><th scope=col>&lt;dbl&gt;</th><th scope=col>&lt;dbl&gt;</th><th scope=col>&lt;chr&gt;</th><th scope=col>&lt;chr&gt;</th><th scope=col>&lt;dbl&gt;</th><th scope=col>&lt;chr&gt;</th><th scope=col>⋯</th><th scope=col>&lt;dbl&gt;</th><th scope=col>&lt;dbl&gt;</th><th scope=col>&lt;dbl&gt;</th><th scope=col>&lt;dbl&gt;</th><th scope=col>&lt;dbl&gt;</th><th scope=col>&lt;dbl&gt;</th><th scope=col>&lt;chr&gt;</th><th scope=col>&lt;chr&gt;</th><th scope=col>&lt;lgl&gt;</th><th scope=col>&lt;fct&gt;</th></tr>\n",
       "</thead>\n",
       "<tbody>\n",
       "\t<tr><td> 66154</td><td>25312</td><td>118</td><td>68</td><td>22.73</td><td>0</td><td>Caucasian</td><td>M</td><td>180.3</td><td>Floor                    </td><td>⋯</td><td>1</td><td>0</td><td>0</td><td>0</td><td>0</td><td>0</td><td>Sepsis        </td><td>Cardiovascular</td><td>NA</td><td>0</td></tr>\n",
       "\t<tr><td>114252</td><td>59342</td><td> 81</td><td>77</td><td>27.42</td><td>0</td><td>Caucasian</td><td>F</td><td>160.0</td><td>Floor                    </td><td>⋯</td><td>1</td><td>0</td><td>0</td><td>0</td><td>0</td><td>0</td><td>Respiratory   </td><td>Respiratory   </td><td>NA</td><td>0</td></tr>\n",
       "\t<tr><td>119783</td><td>50777</td><td>118</td><td>25</td><td>31.95</td><td>0</td><td>Caucasian</td><td>F</td><td>172.7</td><td><span style=white-space:pre-wrap>Accident &amp; Emergency     </span></td><td>⋯</td><td>0</td><td>0</td><td>0</td><td>0</td><td>0</td><td>0</td><td><span style=white-space:pre-wrap>Metabolic     </span></td><td><span style=white-space:pre-wrap>Metabolic     </span></td><td>NA</td><td>0</td></tr>\n",
       "\t<tr><td> 79267</td><td>46918</td><td>118</td><td>81</td><td>22.64</td><td>1</td><td>Caucasian</td><td>F</td><td>165.1</td><td>Operating Room / Recovery</td><td>⋯</td><td>0</td><td>0</td><td>0</td><td>0</td><td>0</td><td>0</td><td>Cardiovascular</td><td>Cardiovascular</td><td>NA</td><td>0</td></tr>\n",
       "\t<tr><td> 92056</td><td>34377</td><td> 33</td><td>19</td><td><span style=white-space:pre-wrap>   NA</span></td><td>0</td><td>Caucasian</td><td>M</td><td>188.0</td><td><span style=white-space:pre-wrap>Accident &amp; Emergency     </span></td><td>⋯</td><td>0</td><td>0</td><td>0</td><td>0</td><td>0</td><td>0</td><td><span style=white-space:pre-wrap>Trauma        </span></td><td><span style=white-space:pre-wrap>Trauma        </span></td><td>NA</td><td>0</td></tr>\n",
       "\t<tr><td>⋮</td><td>⋮</td><td>⋮</td><td>⋮</td><td>⋮</td><td>⋮</td><td>⋮</td><td>⋮</td><td>⋮</td><td>⋮</td><td>⋱</td><td>⋮</td><td>⋮</td><td>⋮</td><td>⋮</td><td>⋮</td><td>⋮</td><td>⋮</td><td>⋮</td><td>⋮</td><td>⋮</td></tr>\n",
       "\t<tr><td> 25153</td><td>47787</td><td>199</td><td>71</td><td>25.34944</td><td>1</td><td>Caucasian       </td><td>M</td><td>182.9</td><td>Operating Room / Recovery</td><td>⋯</td><td>0</td><td>0</td><td>0</td><td>0</td><td>0</td><td>1</td><td>Cardiovascular</td><td>Cardiovascular</td><td>NA</td><td>0</td></tr>\n",
       "\t<tr><td> 53423</td><td>58832</td><td> 62</td><td>48</td><td>48.91121</td><td>1</td><td>Caucasian       </td><td>M</td><td>190.5</td><td>Operating Room / Recovery</td><td>⋯</td><td>0</td><td>0</td><td>0</td><td>0</td><td>0</td><td>0</td><td>Cardiovascular</td><td>Cardiovascular</td><td>NA</td><td>0</td></tr>\n",
       "\t<tr><td> 92359</td><td>62784</td><td> 62</td><td>71</td><td>38.09524</td><td>0</td><td><span style=white-space:pre-wrap>Caucasian       </span></td><td>F</td><td>157.5</td><td><span style=white-space:pre-wrap>Accident &amp; Emergency     </span></td><td>⋯</td><td>0</td><td>0</td><td>0</td><td>0</td><td>0</td><td>0</td><td>Cardiovascular</td><td>Cardiovascular</td><td>NA</td><td>0</td></tr>\n",
       "\t<tr><td>121320</td><td>88259</td><td> 54</td><td>57</td><td>27.49751</td><td>0</td><td>African American</td><td>F</td><td>162.6</td><td><span style=white-space:pre-wrap>Accident &amp; Emergency     </span></td><td>⋯</td><td>1</td><td>0</td><td>0</td><td>0</td><td>0</td><td>0</td><td><span style=white-space:pre-wrap>Sepsis        </span></td><td>Cardiovascular</td><td>NA</td><td>1</td></tr>\n",
       "\t<tr><td> 71163</td><td>44514</td><td> 54</td><td>65</td><td>23.91793</td><td>0</td><td><span style=white-space:pre-wrap>Caucasian       </span></td><td>M</td><td>175.3</td><td><span style=white-space:pre-wrap>Accident &amp; Emergency     </span></td><td>⋯</td><td>0</td><td>0</td><td>0</td><td>0</td><td>0</td><td>0</td><td>Cardiovascular</td><td>Cardiovascular</td><td>NA</td><td>0</td></tr>\n",
       "</tbody>\n",
       "</table>\n"
      ],
      "text/latex": [
       "A spec\\_tbl\\_df: 39999 × 69\n",
       "\\begin{tabular}{lllllllllllllllllllll}\n",
       " encounter\\_id & patient\\_id & hospital\\_id & age & bmi & elective\\_surgery & ethnicity & gender & height & icu\\_admit\\_source & ⋯ & diabetes\\_mellitus & hepatic\\_failure & immunosuppression & leukemia & lymphoma & solid\\_tumor\\_with\\_metastasis & apache\\_3j\\_bodysystem & apache\\_2\\_bodysystem & X68 & hospital\\_death\\\\\n",
       " <dbl> & <dbl> & <dbl> & <dbl> & <dbl> & <dbl> & <chr> & <chr> & <dbl> & <chr> & ⋯ & <dbl> & <dbl> & <dbl> & <dbl> & <dbl> & <dbl> & <chr> & <chr> & <lgl> & <fct>\\\\\n",
       "\\hline\n",
       "\t  66154 & 25312 & 118 & 68 & 22.73 & 0 & Caucasian & M & 180.3 & Floor                     & ⋯ & 1 & 0 & 0 & 0 & 0 & 0 & Sepsis         & Cardiovascular & NA & 0\\\\\n",
       "\t 114252 & 59342 &  81 & 77 & 27.42 & 0 & Caucasian & F & 160.0 & Floor                     & ⋯ & 1 & 0 & 0 & 0 & 0 & 0 & Respiratory    & Respiratory    & NA & 0\\\\\n",
       "\t 119783 & 50777 & 118 & 25 & 31.95 & 0 & Caucasian & F & 172.7 & Accident \\& Emergency      & ⋯ & 0 & 0 & 0 & 0 & 0 & 0 & Metabolic      & Metabolic      & NA & 0\\\\\n",
       "\t  79267 & 46918 & 118 & 81 & 22.64 & 1 & Caucasian & F & 165.1 & Operating Room / Recovery & ⋯ & 0 & 0 & 0 & 0 & 0 & 0 & Cardiovascular & Cardiovascular & NA & 0\\\\\n",
       "\t  92056 & 34377 &  33 & 19 &    NA & 0 & Caucasian & M & 188.0 & Accident \\& Emergency      & ⋯ & 0 & 0 & 0 & 0 & 0 & 0 & Trauma         & Trauma         & NA & 0\\\\\n",
       "\t ⋮ & ⋮ & ⋮ & ⋮ & ⋮ & ⋮ & ⋮ & ⋮ & ⋮ & ⋮ & ⋱ & ⋮ & ⋮ & ⋮ & ⋮ & ⋮ & ⋮ & ⋮ & ⋮ & ⋮ & ⋮\\\\\n",
       "\t  25153 & 47787 & 199 & 71 & 25.34944 & 1 & Caucasian        & M & 182.9 & Operating Room / Recovery & ⋯ & 0 & 0 & 0 & 0 & 0 & 1 & Cardiovascular & Cardiovascular & NA & 0\\\\\n",
       "\t  53423 & 58832 &  62 & 48 & 48.91121 & 1 & Caucasian        & M & 190.5 & Operating Room / Recovery & ⋯ & 0 & 0 & 0 & 0 & 0 & 0 & Cardiovascular & Cardiovascular & NA & 0\\\\\n",
       "\t  92359 & 62784 &  62 & 71 & 38.09524 & 0 & Caucasian        & F & 157.5 & Accident \\& Emergency      & ⋯ & 0 & 0 & 0 & 0 & 0 & 0 & Cardiovascular & Cardiovascular & NA & 0\\\\\n",
       "\t 121320 & 88259 &  54 & 57 & 27.49751 & 0 & African American & F & 162.6 & Accident \\& Emergency      & ⋯ & 1 & 0 & 0 & 0 & 0 & 0 & Sepsis         & Cardiovascular & NA & 1\\\\\n",
       "\t  71163 & 44514 &  54 & 65 & 23.91793 & 0 & Caucasian        & M & 175.3 & Accident \\& Emergency      & ⋯ & 0 & 0 & 0 & 0 & 0 & 0 & Cardiovascular & Cardiovascular & NA & 0\\\\\n",
       "\\end{tabular}\n"
      ],
      "text/markdown": [
       "\n",
       "A spec_tbl_df: 39999 × 69\n",
       "\n",
       "| encounter_id &lt;dbl&gt; | patient_id &lt;dbl&gt; | hospital_id &lt;dbl&gt; | age &lt;dbl&gt; | bmi &lt;dbl&gt; | elective_surgery &lt;dbl&gt; | ethnicity &lt;chr&gt; | gender &lt;chr&gt; | height &lt;dbl&gt; | icu_admit_source &lt;chr&gt; | ⋯ ⋯ | diabetes_mellitus &lt;dbl&gt; | hepatic_failure &lt;dbl&gt; | immunosuppression &lt;dbl&gt; | leukemia &lt;dbl&gt; | lymphoma &lt;dbl&gt; | solid_tumor_with_metastasis &lt;dbl&gt; | apache_3j_bodysystem &lt;chr&gt; | apache_2_bodysystem &lt;chr&gt; | X68 &lt;lgl&gt; | hospital_death &lt;fct&gt; |\n",
       "|---|---|---|---|---|---|---|---|---|---|---|---|---|---|---|---|---|---|---|---|---|\n",
       "|  66154 | 25312 | 118 | 68 | 22.73 | 0 | Caucasian | M | 180.3 | Floor                     | ⋯ | 1 | 0 | 0 | 0 | 0 | 0 | Sepsis         | Cardiovascular | NA | 0 |\n",
       "| 114252 | 59342 |  81 | 77 | 27.42 | 0 | Caucasian | F | 160.0 | Floor                     | ⋯ | 1 | 0 | 0 | 0 | 0 | 0 | Respiratory    | Respiratory    | NA | 0 |\n",
       "| 119783 | 50777 | 118 | 25 | 31.95 | 0 | Caucasian | F | 172.7 | Accident &amp; Emergency      | ⋯ | 0 | 0 | 0 | 0 | 0 | 0 | Metabolic      | Metabolic      | NA | 0 |\n",
       "|  79267 | 46918 | 118 | 81 | 22.64 | 1 | Caucasian | F | 165.1 | Operating Room / Recovery | ⋯ | 0 | 0 | 0 | 0 | 0 | 0 | Cardiovascular | Cardiovascular | NA | 0 |\n",
       "|  92056 | 34377 |  33 | 19 |    NA | 0 | Caucasian | M | 188.0 | Accident &amp; Emergency      | ⋯ | 0 | 0 | 0 | 0 | 0 | 0 | Trauma         | Trauma         | NA | 0 |\n",
       "| ⋮ | ⋮ | ⋮ | ⋮ | ⋮ | ⋮ | ⋮ | ⋮ | ⋮ | ⋮ | ⋱ | ⋮ | ⋮ | ⋮ | ⋮ | ⋮ | ⋮ | ⋮ | ⋮ | ⋮ | ⋮ |\n",
       "|  25153 | 47787 | 199 | 71 | 25.34944 | 1 | Caucasian        | M | 182.9 | Operating Room / Recovery | ⋯ | 0 | 0 | 0 | 0 | 0 | 1 | Cardiovascular | Cardiovascular | NA | 0 |\n",
       "|  53423 | 58832 |  62 | 48 | 48.91121 | 1 | Caucasian        | M | 190.5 | Operating Room / Recovery | ⋯ | 0 | 0 | 0 | 0 | 0 | 0 | Cardiovascular | Cardiovascular | NA | 0 |\n",
       "|  92359 | 62784 |  62 | 71 | 38.09524 | 0 | Caucasian        | F | 157.5 | Accident &amp; Emergency      | ⋯ | 0 | 0 | 0 | 0 | 0 | 0 | Cardiovascular | Cardiovascular | NA | 0 |\n",
       "| 121320 | 88259 |  54 | 57 | 27.49751 | 0 | African American | F | 162.6 | Accident &amp; Emergency      | ⋯ | 1 | 0 | 0 | 0 | 0 | 0 | Sepsis         | Cardiovascular | NA | 1 |\n",
       "|  71163 | 44514 |  54 | 65 | 23.91793 | 0 | Caucasian        | M | 175.3 | Accident &amp; Emergency      | ⋯ | 0 | 0 | 0 | 0 | 0 | 0 | Cardiovascular | Cardiovascular | NA | 0 |\n",
       "\n"
      ],
      "text/plain": [
       "      encounter_id patient_id hospital_id age bmi      elective_surgery\n",
       "1      66154       25312      118         68  22.73    0               \n",
       "2     114252       59342       81         77  27.42    0               \n",
       "3     119783       50777      118         25  31.95    0               \n",
       "4      79267       46918      118         81  22.64    1               \n",
       "5      92056       34377       33         19     NA    0               \n",
       "⋮     ⋮            ⋮          ⋮           ⋮   ⋮        ⋮               \n",
       "39995  25153       47787      199         71  25.34944 1               \n",
       "39996  53423       58832       62         48  48.91121 1               \n",
       "39997  92359       62784       62         71  38.09524 0               \n",
       "39998 121320       88259       54         57  27.49751 0               \n",
       "39999  71163       44514       54         65  23.91793 0               \n",
       "      ethnicity        gender height icu_admit_source          ⋯\n",
       "1     Caucasian        M      180.3  Floor                     ⋯\n",
       "2     Caucasian        F      160.0  Floor                     ⋯\n",
       "3     Caucasian        F      172.7  Accident & Emergency      ⋯\n",
       "4     Caucasian        F      165.1  Operating Room / Recovery ⋯\n",
       "5     Caucasian        M      188.0  Accident & Emergency      ⋯\n",
       "⋮     ⋮                ⋮      ⋮      ⋮                         ⋱\n",
       "39995 Caucasian        M      182.9  Operating Room / Recovery ⋯\n",
       "39996 Caucasian        M      190.5  Operating Room / Recovery ⋯\n",
       "39997 Caucasian        F      157.5  Accident & Emergency      ⋯\n",
       "39998 African American F      162.6  Accident & Emergency      ⋯\n",
       "39999 Caucasian        M      175.3  Accident & Emergency      ⋯\n",
       "      diabetes_mellitus hepatic_failure immunosuppression leukemia lymphoma\n",
       "1     1                 0               0                 0        0       \n",
       "2     1                 0               0                 0        0       \n",
       "3     0                 0               0                 0        0       \n",
       "4     0                 0               0                 0        0       \n",
       "5     0                 0               0                 0        0       \n",
       "⋮     ⋮                 ⋮               ⋮                 ⋮        ⋮       \n",
       "39995 0                 0               0                 0        0       \n",
       "39996 0                 0               0                 0        0       \n",
       "39997 0                 0               0                 0        0       \n",
       "39998 1                 0               0                 0        0       \n",
       "39999 0                 0               0                 0        0       \n",
       "      solid_tumor_with_metastasis apache_3j_bodysystem apache_2_bodysystem X68\n",
       "1     0                           Sepsis               Cardiovascular      NA \n",
       "2     0                           Respiratory          Respiratory         NA \n",
       "3     0                           Metabolic            Metabolic           NA \n",
       "4     0                           Cardiovascular       Cardiovascular      NA \n",
       "5     0                           Trauma               Trauma              NA \n",
       "⋮     ⋮                           ⋮                    ⋮                   ⋮  \n",
       "39995 1                           Cardiovascular       Cardiovascular      NA \n",
       "39996 0                           Cardiovascular       Cardiovascular      NA \n",
       "39997 0                           Cardiovascular       Cardiovascular      NA \n",
       "39998 0                           Sepsis               Cardiovascular      NA \n",
       "39999 0                           Cardiovascular       Cardiovascular      NA \n",
       "      hospital_death\n",
       "1     0             \n",
       "2     0             \n",
       "3     0             \n",
       "4     0             \n",
       "5     0             \n",
       "⋮     ⋮             \n",
       "39995 0             \n",
       "39996 0             \n",
       "39997 0             \n",
       "39998 1             \n",
       "39999 0             "
      ]
     },
     "metadata": {},
     "output_type": "display_data"
    },
    {
     "data": {
      "text/html": [
       "<style>\n",
       ".list-inline {list-style: none; margin:0; padding: 0}\n",
       ".list-inline>li {display: inline-block}\n",
       ".list-inline>li:not(:last-child)::after {content: \"\\00b7\"; padding: 0 .5ex}\n",
       "</style>\n",
       "<ol class=list-inline><li>39999</li><li>69</li></ol>\n"
      ],
      "text/latex": [
       "\\begin{enumerate*}\n",
       "\\item 39999\n",
       "\\item 69\n",
       "\\end{enumerate*}\n"
      ],
      "text/markdown": [
       "1. 39999\n",
       "2. 69\n",
       "\n",
       "\n"
      ],
      "text/plain": [
       "[1] 39999    69"
      ]
     },
     "metadata": {},
     "output_type": "display_data"
    }
   ],
   "source": [
    "library(tidyverse)\n",
    "library(repr)\n",
    "options(repr.matrix.max.rows = 10)\n",
    "#source(\"tests.R\")\n",
    "#source(\"cleanup.R\")\n",
    "\n",
    "#read in file\n",
    "survival <- read_csv(\"dataset_1.csv\", col_names = TRUE, col_types = NULL, skip_empty_rows = TRUE)%>%\n",
    "mutate(hospital_death = as_factor(hospital_death))\n",
    "survival\n",
    "#how big is data set?\n",
    "dim(survival)"
   ]
  },
  {
   "cell_type": "code",
   "execution_count": 24,
   "metadata": {},
   "outputs": [],
   "source": [
    "#begin to explore data\n",
    "age_plot <- survival %>%\n",
    "ggplot(aes(x=age, color=hospital_death, na.rm=TRUE))+\n",
    "    geom_histogram(binwidth=1)+\n",
    "    labs(x=\"Age\", color=\"Did They Die?\")\n",
    "    options(repr.plot.height = 8, repr.plot.width = 8)\n",
    "#age_plot\n",
    "#deaths increase with age but so do hospitalizations in general\n"
   ]
  },
  {
   "cell_type": "code",
   "execution_count": 23,
   "metadata": {},
   "outputs": [],
   "source": [
    "#new graph\n",
    "bmi_plot_M<- survival %>%\n",
    "filter(gender==\"M\")%>%\n",
    "    ggplot(aes(x=bmi, color=hospital_death, na.rm=TRUE))+\n",
    "        geom_histogram(binwidth=1)+\n",
    "        labs(x=\"Body Mass Index\", color=\"Did They Die?\")+\n",
    "        ggtitle(\"BMI Male\")\n",
    "        options(repr.plot.height = 8, repr.plot.width = 8)\n",
    "#    bmi_plot_M\n",
    "\n",
    "bmi_plot_F <- survival %>%\n",
    "filter(gender==\"F\")%>%\n",
    "    ggplot(aes(x=bmi, color=hospital_death, na.rm=TRUE))+\n",
    "        geom_histogram(binwidth=1)+\n",
    "        labs(x=\"Body Mass Index\", color=\"Did They Die?\")+\n",
    "        ggtitle(\"BMI Female\")\n",
    "        options(repr.plot.height = 8, repr.plot.width = 8)\n",
    "#    bmi_plot_F\n",
    "#BMI 20-40 has most hospitalizations and deaths. \n",
    "#doesnt tell us much bc idk how much of population is which bmi\n",
    "#Same for males and females"
   ]
  },
  {
   "cell_type": "code",
   "execution_count": 33,
   "metadata": {},
   "outputs": [
    {
     "data": {
      "image/png": "[encoded data removed]",
      "text/plain": [
       "plot without title"
      ]
     },
     "metadata": {
      "image/png": {
       "height": 480,
       "width": 480
      }
     },
     "output_type": "display_data"
    },
    {
     "data": {
      "image/png": "[encoded data removed]",
      "text/plain": [
       "plot without title"
      ]
     },
     "metadata": {
      "image/png": {
       "height": 480,
       "width": 480
      }
     },
     "output_type": "display_data"
    }
   ],
   "source": [
    "#tidy data - only people with one of the diseases\n",
    "diseases_data <- survival %>%\n",
    "select(elective_surgery, diabetes_mellitus:solid_tumor_with_metastasis, hospital_death)%>%\n",
    "pivot_longer(cols=elective_surgery:solid_tumor_with_metastasis,\n",
    "            names_to=\"disease_type\",\n",
    "            values_to=\"disease_presence\")%>%\n",
    "filter(disease_presence==1)\n",
    "\n",
    "\n",
    "\n",
    "#bar graph diseases number of hospitalizations and deaths for each\n",
    "disease_plot1 <- diseases_data %>%\n",
    "ggplot(aes(x=disease_type, fill=hospital_death))+\n",
    "    geom_bar()+\n",
    "     theme(axis.text.x=element_text(angle=45, hjust=1))\n",
    "disease_plot1\n",
    "\n",
    "#% deaths\n",
    "disease_plot2 <- diseases_data %>%\n",
    "ggplot(aes(x=disease_type, fill=hospital_death))+\n",
    "    geom_bar(position=\"fill\")+\n",
    "     theme(axis.text.x=element_text(angle=45, hjust=1))\n",
    "disease_plot2"
   ]
  },
  {
   "cell_type": "code",
   "execution_count": null,
   "metadata": {},
   "outputs": [],
   "source": [
    "#icu_admit_source relationship to death\n",
    "icu_source_graph1 <- survival%>%\n",
    " ggplot(aes(x=icu_admit_source, fill=hospital_death))+\n",
    "    geom_bar()+\n",
    "    labs(x=\"ICU Admit Source\", color=\"Did They Die?\")+\n",
    "    ggtitle(\"ICU Source and Deaths\")+\n",
    "    theme(axis.text.x=element_text(angle=45, hjust=1))\n",
    "#icu_source_graph1\n",
    "\n",
    "icu_source_graph2 <- survival%>%\n",
    " ggplot(aes(x=icu_admit_source, fill=hospital_death))+\n",
    "    geom_bar(position=\"fill\")+\n",
    "    labs(x=\"ICU Admit Source\", color=\"Did They Die?\")+\n",
    "    ggtitle(\"ICU Source and Deaths\")+\n",
    "    theme(axis.text.x=element_text(angle=45, hjust=1))\n",
    "#icu_source_graph2\n",
    "\n",
    "#diff sources do have diff % survival, but not radically different"
   ]
  },
  {
   "cell_type": "code",
   "execution_count": null,
   "metadata": {},
   "outputs": [],
   "source": []
  }
 ],
 "metadata": {
  "kernelspec": {
   "display_name": "R",
   "language": "R",
   "name": "ir"
  },
  "language_info": {
   "codemirror_mode": "r",
   "file_extension": ".r",
   "mimetype": "text/x-r-source",
   "name": "R",
   "pygments_lexer": "r",
   "version": "4.0.0"
  }
 },
 "nbformat": 4,
 "nbformat_minor": 4
}
